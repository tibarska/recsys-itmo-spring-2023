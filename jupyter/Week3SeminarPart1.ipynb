{
 "cells": [
  {
   "cell_type": "code",
   "execution_count": 1,
   "metadata": {
    "tags": []
   },
   "outputs": [],
   "source": [
    "import tqdm\n",
    "import json\n",
    "\n",
    "import pandas as pd\n",
    "import numpy as np\n",
    "\n",
    "from sklearn.metrics.pairwise import cosine_similarity"
   ]
  },
  {
   "cell_type": "markdown",
   "metadata": {},
   "source": [
    "## User-based Collaborative Filtering"
   ]
  },
  {
   "cell_type": "markdown",
   "metadata": {},
   "source": [
    "#### Основная идея: \n",
    "Рекомендовать пользователю треки, которые понравились похожим на него пользователям\n",
    "\n",
    "$$\\hat r_{ui} = h^{-1} \\left( \\frac{\\sum_{v \\in N_i(u)} w_{uv} h(r_{vi})}{\\sum_{v \\in N_i(u)} w_{uv}} \\right)$$\n",
    "\n",
    "$N_i(u)$ - соседи пользователя $u$, которые оценили айтем $i$,\n",
    "$w_{uv}, w_{ij}$ - веса соседей, \n",
    "$h$ - функция нормализации\n",
    "\n",
    "\n",
    "\n",
    "**Нормализация**: В качестве функции нормализации используем среднее время прослушивания\n",
    "\n",
    "**Веса**: Похожих пользователей будем искать по *cosine similarity*\n",
    "\n",
    "**Отсутствующие данные**: заполним средним времнем прослушивания по пользователю\n",
    "\n",
    "**Соседи**: в качестве соседей будем рассматривать всех пользователей. Q: Как это упростит формулу?"
   ]
  },
  {
   "cell_type": "code",
   "execution_count": 49,
   "metadata": {
    "tags": []
   },
   "outputs": [
    {
     "data": {
      "text/html": [
       "<div>\n",
       "<style scoped>\n",
       "    .dataframe tbody tr th:only-of-type {\n",
       "        vertical-align: middle;\n",
       "    }\n",
       "\n",
       "    .dataframe tbody tr th {\n",
       "        vertical-align: top;\n",
       "    }\n",
       "\n",
       "    .dataframe thead th {\n",
       "        text-align: right;\n",
       "    }\n",
       "</style>\n",
       "<table border=\"1\" class=\"dataframe\">\n",
       "  <thead>\n",
       "    <tr style=\"text-align: right;\">\n",
       "      <th></th>\n",
       "      <th>user</th>\n",
       "      <th>time</th>\n",
       "      <th>track</th>\n",
       "    </tr>\n",
       "  </thead>\n",
       "  <tbody>\n",
       "    <tr>\n",
       "      <th>0</th>\n",
       "      <td>5084</td>\n",
       "      <td>1.00</td>\n",
       "      <td>192</td>\n",
       "    </tr>\n",
       "    <tr>\n",
       "      <th>1</th>\n",
       "      <td>5084</td>\n",
       "      <td>1.00</td>\n",
       "      <td>192</td>\n",
       "    </tr>\n",
       "    <tr>\n",
       "      <th>2</th>\n",
       "      <td>5084</td>\n",
       "      <td>1.00</td>\n",
       "      <td>424</td>\n",
       "    </tr>\n",
       "    <tr>\n",
       "      <th>3</th>\n",
       "      <td>5084</td>\n",
       "      <td>0.02</td>\n",
       "      <td>2254</td>\n",
       "    </tr>\n",
       "    <tr>\n",
       "      <th>4</th>\n",
       "      <td>5084</td>\n",
       "      <td>1.00</td>\n",
       "      <td>171</td>\n",
       "    </tr>\n",
       "  </tbody>\n",
       "</table>\n",
       "</div>"
      ],
      "text/plain": [
       "   user  time  track\n",
       "0  5084  1.00    192\n",
       "1  5084  1.00    192\n",
       "2  5084  1.00    424\n",
       "3  5084  0.02   2254\n",
       "4  5084  1.00    171"
      ]
     },
     "execution_count": 49,
     "metadata": {},
     "output_type": "execute_result"
    }
   ],
   "source": [
    "BOTIFY_DATA_DIR = '/home/tatiana/MADE_Ubuntu/MADE_2/RecSys/recsys-itmo-spring-2023/botify'\n",
    "\n",
    "data = pd.read_json(\"/home/tatiana/MADE_Ubuntu/MADE_2/RecSys/data/data.json\" #\"/Users/n.anokhin/Desktop/input.json\"\n",
    "                    , lines=True)[[\"user\", \"time\", \"track\"]].copy()\n",
    "\n",
    "data.head()"
   ]
  },
  {
   "cell_type": "code",
   "execution_count": 32,
   "metadata": {
    "tags": []
   },
   "outputs": [
    {
     "data": {
      "text/html": [
       "<div>\n",
       "<style scoped>\n",
       "    .dataframe tbody tr th:only-of-type {\n",
       "        vertical-align: middle;\n",
       "    }\n",
       "\n",
       "    .dataframe tbody tr th {\n",
       "        vertical-align: top;\n",
       "    }\n",
       "\n",
       "    .dataframe thead th {\n",
       "        text-align: right;\n",
       "    }\n",
       "</style>\n",
       "<table border=\"1\" class=\"dataframe\">\n",
       "  <thead>\n",
       "    <tr style=\"text-align: right;\">\n",
       "      <th></th>\n",
       "      <th>user</th>\n",
       "      <th>time</th>\n",
       "      <th>track</th>\n",
       "      <th>normalized_time</th>\n",
       "    </tr>\n",
       "  </thead>\n",
       "  <tbody>\n",
       "    <tr>\n",
       "      <th>0</th>\n",
       "      <td>5084</td>\n",
       "      <td>1.00</td>\n",
       "      <td>192</td>\n",
       "      <td>0.483158</td>\n",
       "    </tr>\n",
       "    <tr>\n",
       "      <th>1</th>\n",
       "      <td>5084</td>\n",
       "      <td>1.00</td>\n",
       "      <td>192</td>\n",
       "      <td>0.483158</td>\n",
       "    </tr>\n",
       "    <tr>\n",
       "      <th>2</th>\n",
       "      <td>5084</td>\n",
       "      <td>1.00</td>\n",
       "      <td>424</td>\n",
       "      <td>0.483158</td>\n",
       "    </tr>\n",
       "    <tr>\n",
       "      <th>3</th>\n",
       "      <td>5084</td>\n",
       "      <td>0.02</td>\n",
       "      <td>2254</td>\n",
       "      <td>-0.496842</td>\n",
       "    </tr>\n",
       "    <tr>\n",
       "      <th>4</th>\n",
       "      <td>5084</td>\n",
       "      <td>1.00</td>\n",
       "      <td>171</td>\n",
       "      <td>0.483158</td>\n",
       "    </tr>\n",
       "  </tbody>\n",
       "</table>\n",
       "</div>"
      ],
      "text/plain": [
       "   user  time  track  normalized_time\n",
       "0  5084  1.00    192         0.483158\n",
       "1  5084  1.00    192         0.483158\n",
       "2  5084  1.00    424         0.483158\n",
       "3  5084  0.02   2254        -0.496842\n",
       "4  5084  1.00    171         0.483158"
      ]
     },
     "execution_count": 32,
     "metadata": {},
     "output_type": "execute_result"
    }
   ],
   "source": [
    "data[\"normalized_time\"] = data.groupby(\"user\")[\"time\"].transform(lambda time: time - time.mean())\n",
    "data.head()"
   ]
  },
  {
   "cell_type": "code",
   "execution_count": 33,
   "metadata": {
    "tags": []
   },
   "outputs": [
    {
     "name": "stdout",
     "output_type": "stream",
     "text": [
      "Interactions matrix: shape=(3023, 8403), sparsity=0.0010897451719765663\n"
     ]
    }
   ],
   "source": [
    "interactions = pd.pivot_table(data, values=\"normalized_time\", index=\"user\", columns=\"track\").fillna(0)\n",
    "\n",
    "print(f\"Interactions matrix: shape={interactions.shape}, sparsity={(interactions != 0).values.sum() / interactions.size}\")"
   ]
  },
  {
   "cell_type": "code",
   "execution_count": 35,
   "metadata": {},
   "outputs": [
    {
     "data": {
      "text/plain": [
       "track\n",
       "170    -0.2075\n",
       "246     0.5625\n",
       "424    -0.4275\n",
       "4205    0.0625\n",
       "7585   -0.1875\n",
       "7617    0.5625\n",
       "Name: 2, dtype: float64"
      ]
     },
     "execution_count": 35,
     "metadata": {},
     "output_type": "execute_result"
    }
   ],
   "source": [
    "interactions.loc[2][interactions.loc[2] != 0]"
   ]
  },
  {
   "cell_type": "code",
   "execution_count": 36,
   "metadata": {
    "tags": []
   },
   "outputs": [
    {
     "name": "stdout",
     "output_type": "stream",
     "text": [
      "Mean positive neighbours per user: 314.31822692689383\n"
     ]
    }
   ],
   "source": [
    "similarity_matrix = cosine_similarity(interactions)\n",
    "np.fill_diagonal(similarity_matrix, 0)\n",
    "\n",
    "print(f\"Mean positive neighbours per user: {(similarity_matrix > 0).sum(axis=1).mean()}\")"
   ]
  },
  {
   "cell_type": "code",
   "execution_count": 37,
   "metadata": {
    "tags": []
   },
   "outputs": [
    {
     "name": "stdout",
     "output_type": "stream",
     "text": [
      "Mean negative neighbours per user: 229.74594773403902\n"
     ]
    }
   ],
   "source": [
    "print(f\"Mean negative neighbours per user: {(similarity_matrix < 0).sum(axis=1).mean()}\")"
   ]
  },
  {
   "cell_type": "code",
   "execution_count": 39,
   "metadata": {
    "tags": []
   },
   "outputs": [
    {
     "data": {
      "text/html": [
       "<div>\n",
       "<style scoped>\n",
       "    .dataframe tbody tr th:only-of-type {\n",
       "        vertical-align: middle;\n",
       "    }\n",
       "\n",
       "    .dataframe tbody tr th {\n",
       "        vertical-align: top;\n",
       "    }\n",
       "\n",
       "    .dataframe thead th {\n",
       "        text-align: right;\n",
       "    }\n",
       "</style>\n",
       "<table border=\"1\" class=\"dataframe\">\n",
       "  <thead>\n",
       "    <tr style=\"text-align: right;\">\n",
       "      <th>track</th>\n",
       "      <th>1</th>\n",
       "      <th>2</th>\n",
       "      <th>5</th>\n",
       "      <th>7</th>\n",
       "    </tr>\n",
       "    <tr>\n",
       "      <th>user</th>\n",
       "      <th></th>\n",
       "      <th></th>\n",
       "      <th></th>\n",
       "      <th></th>\n",
       "    </tr>\n",
       "  </thead>\n",
       "  <tbody>\n",
       "    <tr>\n",
       "      <th>2</th>\n",
       "      <td>0.000000</td>\n",
       "      <td>0.0</td>\n",
       "      <td>0.0</td>\n",
       "      <td>0.014096</td>\n",
       "    </tr>\n",
       "    <tr>\n",
       "      <th>3</th>\n",
       "      <td>0.000000</td>\n",
       "      <td>0.0</td>\n",
       "      <td>0.0</td>\n",
       "      <td>0.000000</td>\n",
       "    </tr>\n",
       "    <tr>\n",
       "      <th>7</th>\n",
       "      <td>0.000000</td>\n",
       "      <td>0.0</td>\n",
       "      <td>0.0</td>\n",
       "      <td>0.000000</td>\n",
       "    </tr>\n",
       "    <tr>\n",
       "      <th>14</th>\n",
       "      <td>0.055306</td>\n",
       "      <td>0.0</td>\n",
       "      <td>0.0</td>\n",
       "      <td>0.051164</td>\n",
       "    </tr>\n",
       "    <tr>\n",
       "      <th>15</th>\n",
       "      <td>0.000000</td>\n",
       "      <td>0.0</td>\n",
       "      <td>0.0</td>\n",
       "      <td>0.000000</td>\n",
       "    </tr>\n",
       "  </tbody>\n",
       "</table>\n",
       "</div>"
      ],
      "text/plain": [
       "track         1    2    5         7\n",
       "user                               \n",
       "2      0.000000  0.0  0.0  0.014096\n",
       "3      0.000000  0.0  0.0  0.000000\n",
       "7      0.000000  0.0  0.0  0.000000\n",
       "14     0.055306  0.0  0.0  0.051164\n",
       "15     0.000000  0.0  0.0  0.000000"
      ]
     },
     "execution_count": 39,
     "metadata": {},
     "output_type": "execute_result"
    }
   ],
   "source": [
    "# TODO: Compute proper user-based scores\n",
    "# TODO: expected size: observed users x observed tracks\n",
    "scores_matrix = np.matmul(similarity_matrix, interactions.values)\n",
    "\n",
    "scores = pd.DataFrame(\n",
    "    scores_matrix,\n",
    "    index=interactions.index,\n",
    "    columns=interactions.columns\n",
    ")\n",
    "\n",
    "scores[[1, 2, 5, 7]].head()"
   ]
  },
  {
   "cell_type": "code",
   "execution_count": 40,
   "metadata": {
    "scrolled": true
   },
   "outputs": [
    {
     "data": {
      "text/plain": [
       "0.11181694044732776"
      ]
     },
     "execution_count": 40,
     "metadata": {},
     "output_type": "execute_result"
    }
   ],
   "source": [
    "(scores != 0).values.sum() / interactions.size"
   ]
  },
  {
   "cell_type": "markdown",
   "metadata": {},
   "source": [
    "## Глянем на рекомендации"
   ]
  },
  {
   "cell_type": "code",
   "execution_count": 53,
   "metadata": {
    "tags": []
   },
   "outputs": [
    {
     "data": {
      "text/html": [
       "<div>\n",
       "<style scoped>\n",
       "    .dataframe tbody tr th:only-of-type {\n",
       "        vertical-align: middle;\n",
       "    }\n",
       "\n",
       "    .dataframe tbody tr th {\n",
       "        vertical-align: top;\n",
       "    }\n",
       "\n",
       "    .dataframe thead th {\n",
       "        text-align: right;\n",
       "    }\n",
       "</style>\n",
       "<table border=\"1\" class=\"dataframe\">\n",
       "  <thead>\n",
       "    <tr style=\"text-align: right;\">\n",
       "      <th></th>\n",
       "      <th>artist</th>\n",
       "      <th>title</th>\n",
       "    </tr>\n",
       "    <tr>\n",
       "      <th>track</th>\n",
       "      <th></th>\n",
       "      <th></th>\n",
       "    </tr>\n",
       "  </thead>\n",
       "  <tbody>\n",
       "    <tr>\n",
       "      <th>0</th>\n",
       "      <td>Jack Johnson</td>\n",
       "      <td>The Cove</td>\n",
       "    </tr>\n",
       "    <tr>\n",
       "      <th>1</th>\n",
       "      <td>Billy Preston</td>\n",
       "      <td>Nothing from Nothing</td>\n",
       "    </tr>\n",
       "    <tr>\n",
       "      <th>2</th>\n",
       "      <td>Paco De Lucia</td>\n",
       "      <td>Entre Dos Aguas</td>\n",
       "    </tr>\n",
       "    <tr>\n",
       "      <th>3</th>\n",
       "      <td>Josh Rouse</td>\n",
       "      <td>Under Cold Blue Stars</td>\n",
       "    </tr>\n",
       "    <tr>\n",
       "      <th>4</th>\n",
       "      <td>The Dead 60s</td>\n",
       "      <td>Riot Radio (Soundtrack Version)</td>\n",
       "    </tr>\n",
       "  </tbody>\n",
       "</table>\n",
       "</div>"
      ],
      "text/plain": [
       "              artist                            title\n",
       "track                                                \n",
       "0       Jack Johnson                         The Cove\n",
       "1      Billy Preston             Nothing from Nothing\n",
       "2      Paco De Lucia                  Entre Dos Aguas\n",
       "3         Josh Rouse            Under Cold Blue Stars\n",
       "4       The Dead 60s  Riot Radio (Soundtrack Version)"
      ]
     },
     "execution_count": 53,
     "metadata": {},
     "output_type": "execute_result"
    }
   ],
   "source": [
    "products = pd.read_json(BOTIFY_DATA_DIR + '/data/' + \"tracks.json\", lines=True).set_index(\"track\")\n",
    "products.head()"
   ]
  },
  {
   "cell_type": "code",
   "execution_count": 60,
   "metadata": {
    "tags": []
   },
   "outputs": [],
   "source": [
    "user = np.random.choice(scores.index)\n",
    "k = 10\n",
    "\n",
    "# data[data[\"user\"] == user]"
   ]
  },
  {
   "cell_type": "code",
   "execution_count": 61,
   "metadata": {
    "tags": []
   },
   "outputs": [
    {
     "data": {
      "text/html": [
       "<div>\n",
       "<style scoped>\n",
       "    .dataframe tbody tr th:only-of-type {\n",
       "        vertical-align: middle;\n",
       "    }\n",
       "\n",
       "    .dataframe tbody tr th {\n",
       "        vertical-align: top;\n",
       "    }\n",
       "\n",
       "    .dataframe thead th {\n",
       "        text-align: right;\n",
       "    }\n",
       "</style>\n",
       "<table border=\"1\" class=\"dataframe\">\n",
       "  <thead>\n",
       "    <tr style=\"text-align: right;\">\n",
       "      <th></th>\n",
       "      <th>user</th>\n",
       "      <th>time</th>\n",
       "      <th>track</th>\n",
       "    </tr>\n",
       "  </thead>\n",
       "  <tbody>\n",
       "    <tr>\n",
       "      <th>16148</th>\n",
       "      <td>2087</td>\n",
       "      <td>1.00</td>\n",
       "      <td>18065</td>\n",
       "    </tr>\n",
       "    <tr>\n",
       "      <th>16150</th>\n",
       "      <td>2087</td>\n",
       "      <td>0.09</td>\n",
       "      <td>140</td>\n",
       "    </tr>\n",
       "    <tr>\n",
       "      <th>16151</th>\n",
       "      <td>2087</td>\n",
       "      <td>0.09</td>\n",
       "      <td>1305</td>\n",
       "    </tr>\n",
       "    <tr>\n",
       "      <th>16152</th>\n",
       "      <td>2087</td>\n",
       "      <td>0.00</td>\n",
       "      <td>179</td>\n",
       "    </tr>\n",
       "    <tr>\n",
       "      <th>16154</th>\n",
       "      <td>2087</td>\n",
       "      <td>0.55</td>\n",
       "      <td>162</td>\n",
       "    </tr>\n",
       "    <tr>\n",
       "      <th>16156</th>\n",
       "      <td>2087</td>\n",
       "      <td>0.00</td>\n",
       "      <td>175</td>\n",
       "    </tr>\n",
       "  </tbody>\n",
       "</table>\n",
       "</div>"
      ],
      "text/plain": [
       "       user  time  track\n",
       "16148  2087  1.00  18065\n",
       "16150  2087  0.09    140\n",
       "16151  2087  0.09   1305\n",
       "16152  2087  0.00    179\n",
       "16154  2087  0.55    162\n",
       "16156  2087  0.00    175"
      ]
     },
     "execution_count": 61,
     "metadata": {},
     "output_type": "execute_result"
    }
   ],
   "source": [
    "data[data[\"user\"] == user]"
   ]
  },
  {
   "cell_type": "code",
   "execution_count": 62,
   "metadata": {
    "tags": []
   },
   "outputs": [
    {
     "data": {
      "text/html": [
       "<div>\n",
       "<style scoped>\n",
       "    .dataframe tbody tr th:only-of-type {\n",
       "        vertical-align: middle;\n",
       "    }\n",
       "\n",
       "    .dataframe tbody tr th {\n",
       "        vertical-align: top;\n",
       "    }\n",
       "\n",
       "    .dataframe thead th {\n",
       "        text-align: right;\n",
       "    }\n",
       "</style>\n",
       "<table border=\"1\" class=\"dataframe\">\n",
       "  <thead>\n",
       "    <tr style=\"text-align: right;\">\n",
       "      <th></th>\n",
       "      <th>score</th>\n",
       "      <th>artist</th>\n",
       "      <th>title</th>\n",
       "    </tr>\n",
       "    <tr>\n",
       "      <th>track</th>\n",
       "      <th></th>\n",
       "      <th></th>\n",
       "      <th></th>\n",
       "    </tr>\n",
       "  </thead>\n",
       "  <tbody>\n",
       "    <tr>\n",
       "      <th>162</th>\n",
       "      <td>2.039224</td>\n",
       "      <td>Train</td>\n",
       "      <td>Hey_ Soul Sister</td>\n",
       "    </tr>\n",
       "    <tr>\n",
       "      <th>309</th>\n",
       "      <td>0.273295</td>\n",
       "      <td>Erin McKeown</td>\n",
       "      <td>Fast As I Can</td>\n",
       "    </tr>\n",
       "    <tr>\n",
       "      <th>2939</th>\n",
       "      <td>0.273065</td>\n",
       "      <td>Alliance Ethnik</td>\n",
       "      <td>Sincerité Et Jalousie</td>\n",
       "    </tr>\n",
       "    <tr>\n",
       "      <th>23694</th>\n",
       "      <td>0.260884</td>\n",
       "      <td>Masta Killa</td>\n",
       "      <td>Ringing Bells</td>\n",
       "    </tr>\n",
       "    <tr>\n",
       "      <th>222</th>\n",
       "      <td>0.245696</td>\n",
       "      <td>Daft Punk</td>\n",
       "      <td>Face To Face</td>\n",
       "    </tr>\n",
       "    <tr>\n",
       "      <th>5718</th>\n",
       "      <td>0.245156</td>\n",
       "      <td>The Killers</td>\n",
       "      <td>Bones</td>\n",
       "    </tr>\n",
       "    <tr>\n",
       "      <th>3553</th>\n",
       "      <td>0.244017</td>\n",
       "      <td>Soltero</td>\n",
       "      <td>Step Through The Door</td>\n",
       "    </tr>\n",
       "    <tr>\n",
       "      <th>1159</th>\n",
       "      <td>0.240562</td>\n",
       "      <td>Soltero</td>\n",
       "      <td>Ghost At The Foot Of The Bed</td>\n",
       "    </tr>\n",
       "    <tr>\n",
       "      <th>2350</th>\n",
       "      <td>0.223655</td>\n",
       "      <td>The All-American Rejects</td>\n",
       "      <td>Don't Leave Me</td>\n",
       "    </tr>\n",
       "    <tr>\n",
       "      <th>185</th>\n",
       "      <td>0.221769</td>\n",
       "      <td>Coldplay</td>\n",
       "      <td>Clocks</td>\n",
       "    </tr>\n",
       "  </tbody>\n",
       "</table>\n",
       "</div>"
      ],
      "text/plain": [
       "          score                    artist                         title\n",
       "track                                                                  \n",
       "162    2.039224                     Train              Hey_ Soul Sister\n",
       "309    0.273295              Erin McKeown                 Fast As I Can\n",
       "2939   0.273065           Alliance Ethnik         Sincerité Et Jalousie\n",
       "23694  0.260884               Masta Killa                 Ringing Bells\n",
       "222    0.245696                 Daft Punk                  Face To Face\n",
       "5718   0.245156               The Killers                         Bones\n",
       "3553   0.244017                   Soltero         Step Through The Door\n",
       "1159   0.240562                   Soltero  Ghost At The Foot Of The Bed\n",
       "2350   0.223655  The All-American Rejects                Don't Leave Me\n",
       "185    0.221769                  Coldplay                        Clocks"
      ]
     },
     "execution_count": 62,
     "metadata": {},
     "output_type": "execute_result"
    }
   ],
   "source": [
    "user_scores = pd.merge(\n",
    "    scores.loc[user].sort_values(ascending=False)[:k].to_frame(\"score\"),\n",
    "    products, \n",
    "    left_index=True, \n",
    "    right_index=True,\n",
    "    how=\"inner\"\n",
    ")\n",
    "\n",
    "user_scores"
   ]
  },
  {
   "cell_type": "code",
   "execution_count": 63,
   "metadata": {
    "tags": []
   },
   "outputs": [
    {
     "data": {
      "text/html": [
       "<div>\n",
       "<style scoped>\n",
       "    .dataframe tbody tr th:only-of-type {\n",
       "        vertical-align: middle;\n",
       "    }\n",
       "\n",
       "    .dataframe tbody tr th {\n",
       "        vertical-align: top;\n",
       "    }\n",
       "\n",
       "    .dataframe thead th {\n",
       "        text-align: right;\n",
       "    }\n",
       "</style>\n",
       "<table border=\"1\" class=\"dataframe\">\n",
       "  <thead>\n",
       "    <tr style=\"text-align: right;\">\n",
       "      <th></th>\n",
       "      <th>time</th>\n",
       "      <th>artist</th>\n",
       "      <th>title</th>\n",
       "    </tr>\n",
       "    <tr>\n",
       "      <th>track</th>\n",
       "      <th></th>\n",
       "      <th></th>\n",
       "      <th></th>\n",
       "    </tr>\n",
       "  </thead>\n",
       "  <tbody>\n",
       "    <tr>\n",
       "      <th>18065</th>\n",
       "      <td>0.711667</td>\n",
       "      <td>The Smiths</td>\n",
       "      <td>There Is A Light That Never Goes Out</td>\n",
       "    </tr>\n",
       "    <tr>\n",
       "      <th>162</th>\n",
       "      <td>0.261667</td>\n",
       "      <td>Train</td>\n",
       "      <td>Hey_ Soul Sister</td>\n",
       "    </tr>\n",
       "    <tr>\n",
       "      <th>140</th>\n",
       "      <td>-0.198333</td>\n",
       "      <td>Justin Bieber</td>\n",
       "      <td>Somebody To Love</td>\n",
       "    </tr>\n",
       "    <tr>\n",
       "      <th>1305</th>\n",
       "      <td>-0.198333</td>\n",
       "      <td>Jason Derulo</td>\n",
       "      <td>Whatcha Say</td>\n",
       "    </tr>\n",
       "    <tr>\n",
       "      <th>179</th>\n",
       "      <td>-0.288333</td>\n",
       "      <td>Sam Cooke</td>\n",
       "      <td>Ain't Misbehavin</td>\n",
       "    </tr>\n",
       "    <tr>\n",
       "      <th>175</th>\n",
       "      <td>-0.288333</td>\n",
       "      <td>Kings Of Leon</td>\n",
       "      <td>Revelry</td>\n",
       "    </tr>\n",
       "  </tbody>\n",
       "</table>\n",
       "</div>"
      ],
      "text/plain": [
       "           time         artist                                 title\n",
       "track                                                               \n",
       "18065  0.711667     The Smiths  There Is A Light That Never Goes Out\n",
       "162    0.261667          Train                      Hey_ Soul Sister\n",
       "140   -0.198333  Justin Bieber                      Somebody To Love\n",
       "1305  -0.198333   Jason Derulo                           Whatcha Say\n",
       "179   -0.288333      Sam Cooke                      Ain't Misbehavin\n",
       "175   -0.288333  Kings Of Leon                               Revelry"
      ]
     },
     "execution_count": 63,
     "metadata": {},
     "output_type": "execute_result"
    }
   ],
   "source": [
    "user_interactions = pd.merge(\n",
    "    interactions.loc[user].sort_values(ascending=False).to_frame(\"time\"),\n",
    "    products, \n",
    "    left_index=True, \n",
    "    right_index=True, \n",
    "    how=\"inner\"\n",
    ")\n",
    "\n",
    "user_interactions[user_interactions[\"time\"] != 0]"
   ]
  },
  {
   "cell_type": "markdown",
   "metadata": {
    "tags": []
   },
   "source": [
    "## Подготавливаем рекомендации для продакшена"
   ]
  },
  {
   "cell_type": "code",
   "execution_count": 64,
   "metadata": {
    "tags": []
   },
   "outputs": [],
   "source": [
    "def recommend(user_id, scores, k):\n",
    "    return scores.loc[user_id].sort_values(ascending=False)[:k].index.tolist()"
   ]
  },
  {
   "cell_type": "code",
   "execution_count": 65,
   "metadata": {
    "tags": []
   },
   "outputs": [
    {
     "name": "stderr",
     "output_type": "stream",
     "text": [
      "100%|█████████████████████████████████████| 3023/3023 [00:01<00:00, 2862.98it/s]\n"
     ]
    }
   ],
   "source": [
    "users = data[\"user\"].unique()\n",
    "\n",
    "with open(BOTIFY_DATA_DIR + \"recommendations_ub.json\", \"w\") as rf:\n",
    "    for user in tqdm.tqdm(users):\n",
    "        recommendation = {\n",
    "            \"user\": int(user),\n",
    "            \"tracks\": recommend(user, scores, 100)\n",
    "        }\n",
    "        rf.write(json.dumps(recommendation) + \"\\n\")"
   ]
  },
  {
   "cell_type": "code",
   "execution_count": null,
   "metadata": {
    "tags": []
   },
   "outputs": [],
   "source": []
  }
 ],
 "metadata": {
  "kernelspec": {
   "display_name": "Python 3 (ipykernel)",
   "language": "python",
   "name": "python3"
  },
  "language_info": {
   "codemirror_mode": {
    "name": "ipython",
    "version": 3
   },
   "file_extension": ".py",
   "mimetype": "text/x-python",
   "name": "python",
   "nbconvert_exporter": "python",
   "pygments_lexer": "ipython3",
   "version": "3.9.13"
  }
 },
 "nbformat": 4,
 "nbformat_minor": 4
}
