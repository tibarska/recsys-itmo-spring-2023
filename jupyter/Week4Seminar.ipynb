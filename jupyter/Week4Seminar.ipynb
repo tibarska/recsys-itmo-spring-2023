{
 "cells": [
  {
   "cell_type": "code",
   "execution_count": 3,
   "metadata": {
    "id": "1CmEukeg8Njd",
    "scrolled": true
   },
   "outputs": [],
   "source": [
    "from collections import namedtuple\n",
    "\n",
    "import pandas as pd\n",
    "import numpy as np\n",
    "\n",
    "import pytorch_lightning as pl\n",
    "\n",
    "import tqdm\n",
    "import json\n",
    "import sklearn.metrics as sm\n",
    "\n",
    "# import tensorboardX as tb\n",
    "import tensorflow as tf\n",
    "import datetime, os\n",
    "\n",
    "import matplotlib.pyplot as plt\n",
    "import seaborn as sns\n",
    "\n",
    "np.random.seed(31337)"
   ]
  },
  {
   "cell_type": "code",
   "execution_count": 4,
   "metadata": {},
   "outputs": [],
   "source": [
    "import torch\n",
    "import torch.nn as nn\n",
    "import torch.nn.functional as F\n",
    "import torch.utils.data as td"
   ]
  },
  {
   "cell_type": "markdown",
   "metadata": {
    "id": "O4cLf0zW8Njf"
   },
   "source": [
    "## Create pairs (first track, subsequent track, time)"
   ]
  },
  {
   "cell_type": "code",
   "execution_count": 5,
   "metadata": {
    "id": "DHUIFjU0Z09C"
   },
   "outputs": [],
   "source": [
    "DATA_DIR = '/home/tatiana/Downloads/' # MADE_Ubuntu/MADE_2/RecSys/recsys-itmo-spring-2023/botify/data'"
   ]
  },
  {
   "cell_type": "code",
   "execution_count": 4,
   "metadata": {
    "id": "Y9aeehkP8Njh"
   },
   "outputs": [],
   "source": [
    "data = pd.read_json(DATA_DIR + \"data_seminar_04.json\", lines=True)"
   ]
  },
  {
   "cell_type": "code",
   "execution_count": 5,
   "metadata": {
    "id": "Y9aeehkP8Njh",
    "scrolled": false
   },
   "outputs": [
    {
     "name": "stdout",
     "output_type": "stream",
     "text": [
      "815255\n"
     ]
    },
    {
     "data": {
      "text/html": [
       "<div>\n",
       "<style scoped>\n",
       "    .dataframe tbody tr th:only-of-type {\n",
       "        vertical-align: middle;\n",
       "    }\n",
       "\n",
       "    .dataframe tbody tr th {\n",
       "        vertical-align: top;\n",
       "    }\n",
       "\n",
       "    .dataframe thead th {\n",
       "        text-align: right;\n",
       "    }\n",
       "</style>\n",
       "<table border=\"1\" class=\"dataframe\">\n",
       "  <thead>\n",
       "    <tr style=\"text-align: right;\">\n",
       "      <th></th>\n",
       "      <th>message</th>\n",
       "      <th>timestamp</th>\n",
       "      <th>user</th>\n",
       "      <th>track</th>\n",
       "      <th>time</th>\n",
       "      <th>latency</th>\n",
       "      <th>recommendation</th>\n",
       "      <th>experiments</th>\n",
       "    </tr>\n",
       "  </thead>\n",
       "  <tbody>\n",
       "    <tr>\n",
       "      <th>0</th>\n",
       "      <td>last</td>\n",
       "      <td>2022-06-13 11:39:37.645</td>\n",
       "      <td>4013</td>\n",
       "      <td>18934</td>\n",
       "      <td>0.02</td>\n",
       "      <td>0.000206</td>\n",
       "      <td>NaN</td>\n",
       "      <td>{'AA': 'T1', 'COLLABORATIVE': 'T1'}</td>\n",
       "    </tr>\n",
       "    <tr>\n",
       "      <th>1</th>\n",
       "      <td>next</td>\n",
       "      <td>2022-06-13 11:39:37.683</td>\n",
       "      <td>9693</td>\n",
       "      <td>29738</td>\n",
       "      <td>1.00</td>\n",
       "      <td>0.000902</td>\n",
       "      <td>3079.0</td>\n",
       "      <td>{'AA': 'C', 'COLLABORATIVE': 'C'}</td>\n",
       "    </tr>\n",
       "    <tr>\n",
       "      <th>2</th>\n",
       "      <td>next</td>\n",
       "      <td>2022-06-13 11:39:37.692</td>\n",
       "      <td>9693</td>\n",
       "      <td>3079</td>\n",
       "      <td>0.06</td>\n",
       "      <td>0.000923</td>\n",
       "      <td>20078.0</td>\n",
       "      <td>{'AA': 'C', 'COLLABORATIVE': 'C'}</td>\n",
       "    </tr>\n",
       "    <tr>\n",
       "      <th>3</th>\n",
       "      <td>next</td>\n",
       "      <td>2022-06-13 11:39:37.700</td>\n",
       "      <td>9693</td>\n",
       "      <td>20078</td>\n",
       "      <td>1.00</td>\n",
       "      <td>0.000858</td>\n",
       "      <td>12044.0</td>\n",
       "      <td>{'AA': 'C', 'COLLABORATIVE': 'C'}</td>\n",
       "    </tr>\n",
       "    <tr>\n",
       "      <th>4</th>\n",
       "      <td>next</td>\n",
       "      <td>2022-06-13 11:39:37.708</td>\n",
       "      <td>9693</td>\n",
       "      <td>12044</td>\n",
       "      <td>0.00</td>\n",
       "      <td>0.000927</td>\n",
       "      <td>37424.0</td>\n",
       "      <td>{'AA': 'C', 'COLLABORATIVE': 'C'}</td>\n",
       "    </tr>\n",
       "  </tbody>\n",
       "</table>\n",
       "</div>"
      ],
      "text/plain": [
       "  message               timestamp  user  track  time   latency  \\\n",
       "0    last 2022-06-13 11:39:37.645  4013  18934  0.02  0.000206   \n",
       "1    next 2022-06-13 11:39:37.683  9693  29738  1.00  0.000902   \n",
       "2    next 2022-06-13 11:39:37.692  9693   3079  0.06  0.000923   \n",
       "3    next 2022-06-13 11:39:37.700  9693  20078  1.00  0.000858   \n",
       "4    next 2022-06-13 11:39:37.708  9693  12044  0.00  0.000927   \n",
       "\n",
       "   recommendation                          experiments  \n",
       "0             NaN  {'AA': 'T1', 'COLLABORATIVE': 'T1'}  \n",
       "1          3079.0    {'AA': 'C', 'COLLABORATIVE': 'C'}  \n",
       "2         20078.0    {'AA': 'C', 'COLLABORATIVE': 'C'}  \n",
       "3         12044.0    {'AA': 'C', 'COLLABORATIVE': 'C'}  \n",
       "4         37424.0    {'AA': 'C', 'COLLABORATIVE': 'C'}  "
      ]
     },
     "execution_count": 5,
     "metadata": {},
     "output_type": "execute_result"
    }
   ],
   "source": [
    "print(len(data))\n",
    "data.head(5)"
   ]
  },
  {
   "cell_type": "code",
   "execution_count": 6,
   "metadata": {
    "scrolled": false
   },
   "outputs": [
    {
     "data": {
      "text/html": [
       "<div>\n",
       "<style scoped>\n",
       "    .dataframe tbody tr th:only-of-type {\n",
       "        vertical-align: middle;\n",
       "    }\n",
       "\n",
       "    .dataframe tbody tr th {\n",
       "        vertical-align: top;\n",
       "    }\n",
       "\n",
       "    .dataframe thead th {\n",
       "        text-align: right;\n",
       "    }\n",
       "</style>\n",
       "<table border=\"1\" class=\"dataframe\">\n",
       "  <thead>\n",
       "    <tr style=\"text-align: right;\">\n",
       "      <th></th>\n",
       "      <th>message</th>\n",
       "      <th>timestamp</th>\n",
       "      <th>user</th>\n",
       "      <th>track</th>\n",
       "      <th>time</th>\n",
       "      <th>latency</th>\n",
       "      <th>recommendation</th>\n",
       "      <th>experiments</th>\n",
       "    </tr>\n",
       "  </thead>\n",
       "  <tbody>\n",
       "    <tr>\n",
       "      <th>364224</th>\n",
       "      <td>next</td>\n",
       "      <td>2022-06-13 10:00:51.357</td>\n",
       "      <td>4013</td>\n",
       "      <td>8399</td>\n",
       "      <td>1.00</td>\n",
       "      <td>0.000983</td>\n",
       "      <td>4179.0</td>\n",
       "      <td>{'AA': 'T1', 'COLLABORATIVE': 'T1'}</td>\n",
       "    </tr>\n",
       "    <tr>\n",
       "      <th>364225</th>\n",
       "      <td>next</td>\n",
       "      <td>2022-06-13 10:00:51.372</td>\n",
       "      <td>4013</td>\n",
       "      <td>4179</td>\n",
       "      <td>0.28</td>\n",
       "      <td>0.000985</td>\n",
       "      <td>8058.0</td>\n",
       "      <td>{'AA': 'T1', 'COLLABORATIVE': 'T1'}</td>\n",
       "    </tr>\n",
       "    <tr>\n",
       "      <th>364226</th>\n",
       "      <td>next</td>\n",
       "      <td>2022-06-13 10:00:51.382</td>\n",
       "      <td>4013</td>\n",
       "      <td>8058</td>\n",
       "      <td>0.97</td>\n",
       "      <td>0.000880</td>\n",
       "      <td>3803.0</td>\n",
       "      <td>{'AA': 'T1', 'COLLABORATIVE': 'T1'}</td>\n",
       "    </tr>\n",
       "    <tr>\n",
       "      <th>364227</th>\n",
       "      <td>next</td>\n",
       "      <td>2022-06-13 10:00:51.392</td>\n",
       "      <td>4013</td>\n",
       "      <td>3803</td>\n",
       "      <td>0.00</td>\n",
       "      <td>0.000914</td>\n",
       "      <td>26872.0</td>\n",
       "      <td>{'AA': 'T1', 'COLLABORATIVE': 'T1'}</td>\n",
       "    </tr>\n",
       "    <tr>\n",
       "      <th>364228</th>\n",
       "      <td>next</td>\n",
       "      <td>2022-06-13 10:00:51.401</td>\n",
       "      <td>4013</td>\n",
       "      <td>26872</td>\n",
       "      <td>0.00</td>\n",
       "      <td>0.000856</td>\n",
       "      <td>42043.0</td>\n",
       "      <td>{'AA': 'T1', 'COLLABORATIVE': 'T1'}</td>\n",
       "    </tr>\n",
       "    <tr>\n",
       "      <th>364229</th>\n",
       "      <td>next</td>\n",
       "      <td>2022-06-13 10:00:51.410</td>\n",
       "      <td>4013</td>\n",
       "      <td>42043</td>\n",
       "      <td>0.00</td>\n",
       "      <td>0.001013</td>\n",
       "      <td>9488.0</td>\n",
       "      <td>{'AA': 'T1', 'COLLABORATIVE': 'T1'}</td>\n",
       "    </tr>\n",
       "    <tr>\n",
       "      <th>364230</th>\n",
       "      <td>next</td>\n",
       "      <td>2022-06-13 10:00:51.421</td>\n",
       "      <td>4013</td>\n",
       "      <td>9488</td>\n",
       "      <td>0.01</td>\n",
       "      <td>0.000909</td>\n",
       "      <td>14105.0</td>\n",
       "      <td>{'AA': 'T1', 'COLLABORATIVE': 'T1'}</td>\n",
       "    </tr>\n",
       "    <tr>\n",
       "      <th>364231</th>\n",
       "      <td>last</td>\n",
       "      <td>2022-06-13 10:00:51.429</td>\n",
       "      <td>4013</td>\n",
       "      <td>14105</td>\n",
       "      <td>0.00</td>\n",
       "      <td>0.000210</td>\n",
       "      <td>NaN</td>\n",
       "      <td>{'AA': 'T1', 'COLLABORATIVE': 'T1'}</td>\n",
       "    </tr>\n",
       "    <tr>\n",
       "      <th>443784</th>\n",
       "      <td>next</td>\n",
       "      <td>2022-06-13 10:22:51.585</td>\n",
       "      <td>4013</td>\n",
       "      <td>19969</td>\n",
       "      <td>1.00</td>\n",
       "      <td>0.000984</td>\n",
       "      <td>14107.0</td>\n",
       "      <td>{'AA': 'T1', 'COLLABORATIVE': 'T1'}</td>\n",
       "    </tr>\n",
       "    <tr>\n",
       "      <th>443785</th>\n",
       "      <td>next</td>\n",
       "      <td>2022-06-13 10:22:51.594</td>\n",
       "      <td>4013</td>\n",
       "      <td>14107</td>\n",
       "      <td>0.00</td>\n",
       "      <td>0.000930</td>\n",
       "      <td>190.0</td>\n",
       "      <td>{'AA': 'T1', 'COLLABORATIVE': 'T1'}</td>\n",
       "    </tr>\n",
       "  </tbody>\n",
       "</table>\n",
       "</div>"
      ],
      "text/plain": [
       "       message               timestamp  user  track  time   latency  \\\n",
       "364224    next 2022-06-13 10:00:51.357  4013   8399  1.00  0.000983   \n",
       "364225    next 2022-06-13 10:00:51.372  4013   4179  0.28  0.000985   \n",
       "364226    next 2022-06-13 10:00:51.382  4013   8058  0.97  0.000880   \n",
       "364227    next 2022-06-13 10:00:51.392  4013   3803  0.00  0.000914   \n",
       "364228    next 2022-06-13 10:00:51.401  4013  26872  0.00  0.000856   \n",
       "364229    next 2022-06-13 10:00:51.410  4013  42043  0.00  0.001013   \n",
       "364230    next 2022-06-13 10:00:51.421  4013   9488  0.01  0.000909   \n",
       "364231    last 2022-06-13 10:00:51.429  4013  14105  0.00  0.000210   \n",
       "443784    next 2022-06-13 10:22:51.585  4013  19969  1.00  0.000984   \n",
       "443785    next 2022-06-13 10:22:51.594  4013  14107  0.00  0.000930   \n",
       "\n",
       "        recommendation                          experiments  \n",
       "364224          4179.0  {'AA': 'T1', 'COLLABORATIVE': 'T1'}  \n",
       "364225          8058.0  {'AA': 'T1', 'COLLABORATIVE': 'T1'}  \n",
       "364226          3803.0  {'AA': 'T1', 'COLLABORATIVE': 'T1'}  \n",
       "364227         26872.0  {'AA': 'T1', 'COLLABORATIVE': 'T1'}  \n",
       "364228         42043.0  {'AA': 'T1', 'COLLABORATIVE': 'T1'}  \n",
       "364229          9488.0  {'AA': 'T1', 'COLLABORATIVE': 'T1'}  \n",
       "364230         14105.0  {'AA': 'T1', 'COLLABORATIVE': 'T1'}  \n",
       "364231             NaN  {'AA': 'T1', 'COLLABORATIVE': 'T1'}  \n",
       "443784         14107.0  {'AA': 'T1', 'COLLABORATIVE': 'T1'}  \n",
       "443785           190.0  {'AA': 'T1', 'COLLABORATIVE': 'T1'}  "
      ]
     },
     "execution_count": 6,
     "metadata": {},
     "output_type": "execute_result"
    }
   ],
   "source": [
    "data[(data['user'] == 4013)].sort_values(by='timestamp').head(10) # &(data['track'] == 8399)]"
   ]
  },
  {
   "cell_type": "code",
   "execution_count": 7,
   "metadata": {},
   "outputs": [
    {
     "data": {
      "text/plain": [
       "(10000,)"
      ]
     },
     "execution_count": 7,
     "metadata": {},
     "output_type": "execute_result"
    }
   ],
   "source": [
    "np.unique(data['user']).shape"
   ]
  },
  {
   "cell_type": "code",
   "execution_count": 8,
   "metadata": {
    "id": "zj9JftT88Njh"
   },
   "outputs": [],
   "source": [
    "Pair = namedtuple(\"Session\", [\"user\", \"start\", \"track\", \"time\"])\n",
    "\n",
    "def get_pairs(user_data):\n",
    "    pairs = []\n",
    "    first = None\n",
    "    for _, row in user_data.sort_values(\"timestamp\").iterrows():\n",
    "        if first is None:\n",
    "            first = row[\"track\"]\n",
    "        else:\n",
    "            pairs.append(Pair(row[\"user\"], first, row[\"track\"], row[\"time\"]))\n",
    "        \n",
    "        if row[\"message\"] == \"last\":\n",
    "            first = None\n",
    "    return pairs"
   ]
  },
  {
   "cell_type": "code",
   "execution_count": 9,
   "metadata": {
    "id": "4c_Ifi9_8Nji"
   },
   "outputs": [],
   "source": [
    "pairs = pd.DataFrame(\n",
    "    data\n",
    "    .groupby(\"user\")\n",
    "    .apply(get_pairs)\n",
    "    .explode()\n",
    "    .values\n",
    "    .tolist(),\n",
    "    columns=[\"user\", \"start\", \"track\", \"time\"]\n",
    ")"
   ]
  },
  {
   "cell_type": "code",
   "execution_count": 10,
   "metadata": {
    "scrolled": true
   },
   "outputs": [
    {
     "data": {
      "text/html": [
       "<div>\n",
       "<style scoped>\n",
       "    .dataframe tbody tr th:only-of-type {\n",
       "        vertical-align: middle;\n",
       "    }\n",
       "\n",
       "    .dataframe tbody tr th {\n",
       "        vertical-align: top;\n",
       "    }\n",
       "\n",
       "    .dataframe thead th {\n",
       "        text-align: right;\n",
       "    }\n",
       "</style>\n",
       "<table border=\"1\" class=\"dataframe\">\n",
       "  <thead>\n",
       "    <tr style=\"text-align: right;\">\n",
       "      <th></th>\n",
       "      <th>user</th>\n",
       "      <th>start</th>\n",
       "      <th>track</th>\n",
       "      <th>time</th>\n",
       "    </tr>\n",
       "  </thead>\n",
       "  <tbody>\n",
       "    <tr>\n",
       "      <th>285420</th>\n",
       "      <td>4013</td>\n",
       "      <td>8399</td>\n",
       "      <td>4179</td>\n",
       "      <td>0.28</td>\n",
       "    </tr>\n",
       "    <tr>\n",
       "      <th>285421</th>\n",
       "      <td>4013</td>\n",
       "      <td>8399</td>\n",
       "      <td>8058</td>\n",
       "      <td>0.97</td>\n",
       "    </tr>\n",
       "    <tr>\n",
       "      <th>285422</th>\n",
       "      <td>4013</td>\n",
       "      <td>8399</td>\n",
       "      <td>3803</td>\n",
       "      <td>0.00</td>\n",
       "    </tr>\n",
       "    <tr>\n",
       "      <th>285423</th>\n",
       "      <td>4013</td>\n",
       "      <td>8399</td>\n",
       "      <td>26872</td>\n",
       "      <td>0.00</td>\n",
       "    </tr>\n",
       "    <tr>\n",
       "      <th>285424</th>\n",
       "      <td>4013</td>\n",
       "      <td>8399</td>\n",
       "      <td>42043</td>\n",
       "      <td>0.00</td>\n",
       "    </tr>\n",
       "    <tr>\n",
       "      <th>285425</th>\n",
       "      <td>4013</td>\n",
       "      <td>8399</td>\n",
       "      <td>9488</td>\n",
       "      <td>0.01</td>\n",
       "    </tr>\n",
       "    <tr>\n",
       "      <th>285426</th>\n",
       "      <td>4013</td>\n",
       "      <td>8399</td>\n",
       "      <td>14105</td>\n",
       "      <td>0.00</td>\n",
       "    </tr>\n",
       "  </tbody>\n",
       "</table>\n",
       "</div>"
      ],
      "text/plain": [
       "        user  start  track  time\n",
       "285420  4013   8399   4179  0.28\n",
       "285421  4013   8399   8058  0.97\n",
       "285422  4013   8399   3803  0.00\n",
       "285423  4013   8399  26872  0.00\n",
       "285424  4013   8399  42043  0.00\n",
       "285425  4013   8399   9488  0.01\n",
       "285426  4013   8399  14105  0.00"
      ]
     },
     "execution_count": 10,
     "metadata": {},
     "output_type": "execute_result"
    }
   ],
   "source": [
    "pairs[(pairs['user'] == 4013)&(pairs['start']==8399)]"
   ]
  },
  {
   "cell_type": "code",
   "execution_count": 11,
   "metadata": {},
   "outputs": [
    {
     "data": {
      "text/plain": [
       "start  user  track  time\n",
       "0      1625  5737   0.00    2\n",
       "             4913   0.00    1\n",
       "             16293  0.00    1\n",
       "             17273  0.00    1\n",
       "7      5330  2854   0.34    2\n",
       "                           ..\n",
       "49999  6815  23067  0.91    1\n",
       "             31095  0.67    1\n",
       "             32413  0.82    1\n",
       "             36807  1.00    1\n",
       "             49431  0.96    1\n",
       "Length: 700776, dtype: int64"
      ]
     },
     "execution_count": 11,
     "metadata": {},
     "output_type": "execute_result"
    }
   ],
   "source": [
    "pairs.groupby(['start']).value_counts() #count()"
   ]
  },
  {
   "cell_type": "code",
   "execution_count": 12,
   "metadata": {
    "id": "eA0LzG3Z8Nji"
   },
   "outputs": [
    {
     "data": {
      "image/png": "[encoded data removed]",
      "text/plain": [
       "<Figure size 640x480 with 1 Axes>"
      ]
     },
     "metadata": {},
     "output_type": "display_data"
    }
   ],
   "source": [
    "figure, ax = plt.subplots()\n",
    "sns.histplot(pairs[\"time\"], ax=ax)\n",
    "pass"
   ]
  },
  {
   "cell_type": "markdown",
   "metadata": {
    "id": "PkYDflFK8Njj"
   },
   "source": [
    "## Train Model"
   ]
  },
  {
   "cell_type": "code",
   "execution_count": 13,
   "metadata": {
    "id": "cE63YQAi8Njj"
   },
   "outputs": [
    {
     "data": {
      "text/plain": [
       "(572587, 70915, 71742)"
      ]
     },
     "execution_count": 13,
     "metadata": {},
     "output_type": "execute_result"
    }
   ],
   "source": [
    "rdm = np.random.random(len(pairs))\n",
    "train_data = pairs[rdm < 0.8]\n",
    "val_data = pairs[(rdm >= 0.8) & (rdm < 0.9)]\n",
    "test_data = pairs[rdm >= 0.9]\n",
    "\n",
    "len(train_data), len(val_data), len(test_data)"
   ]
  },
  {
   "cell_type": "code",
   "execution_count": 16,
   "metadata": {},
   "outputs": [
    {
     "ename": "NameError",
     "evalue": "name 'x' is not defined",
     "output_type": "error",
     "traceback": [
      "\u001b[0;31m---------------------------------------------------------------------------\u001b[0m",
      "\u001b[0;31mNameError\u001b[0m                                 Traceback (most recent call last)",
      "\u001b[0;32m/tmp/ipykernel_18743/754347178.py\u001b[0m in \u001b[0;36m<module>\u001b[0;34m\u001b[0m\n\u001b[1;32m      1\u001b[0m \u001b[0mcontext\u001b[0m \u001b[0;34m=\u001b[0m \u001b[0mnn\u001b[0m\u001b[0;34m.\u001b[0m\u001b[0mEmbedding\u001b[0m\u001b[0;34m(\u001b[0m\u001b[0mnum_embeddings\u001b[0m\u001b[0;34m=\u001b[0m\u001b[0;36m50000\u001b[0m\u001b[0;34m,\u001b[0m \u001b[0membedding_dim\u001b[0m\u001b[0;34m=\u001b[0m\u001b[0;36m10\u001b[0m\u001b[0;34m)\u001b[0m\u001b[0;34m\u001b[0m\u001b[0;34m\u001b[0m\u001b[0m\n\u001b[0;32m----> 2\u001b[0;31m \u001b[0mcontext\u001b[0m\u001b[0;34m(\u001b[0m\u001b[0mx\u001b[0m\u001b[0;34m[\u001b[0m\u001b[0;34m:\u001b[0m\u001b[0;34m,\u001b[0m \u001b[0;36m0\u001b[0m\u001b[0;34m]\u001b[0m\u001b[0;34m)\u001b[0m\u001b[0;34m\u001b[0m\u001b[0;34m\u001b[0m\u001b[0m\n\u001b[0m",
      "\u001b[0;31mNameError\u001b[0m: name 'x' is not defined"
     ]
    }
   ],
   "source": [
    "context = nn.Embedding(num_embeddings=50000, embedding_dim=10)\n",
    "context(x[:, 0]) "
   ]
  },
  {
   "cell_type": "code",
   "execution_count": null,
   "metadata": {
    "id": "2N72w3Ym8Njl"
   },
   "outputs": [],
   "source": [
    "class ContextualRanker(pl.LightningModule):\n",
    "    def __init__(self, embedding_dim=10):\n",
    "        super().__init__()\n",
    "        self.embedding_dim = embedding_dim\n",
    "        \n",
    "        # We won't have embeddings for everything, but that's ok\n",
    "        self.context = nn.Embedding(num_embeddings=50000, embedding_dim=self.embedding_dim)\n",
    "        self.track = nn.Embedding(num_embeddings=50000, embedding_dim=self.embedding_dim)\n",
    "\n",
    "    def forward(self, x):\n",
    "        context = self.context(x[:, 0]) # start track\n",
    "        track = self.track(x[:, 1]) # next track\n",
    "        return torch.sum(context * track, dim=1)\n",
    "            \n",
    "    def step(self, batch, batch_idx, metric, prog_bar=False):\n",
    "        x, y = batch\n",
    "        predictions = self.forward(x)\n",
    "        loss = F.mse_loss(predictions, y.float(), reduction='mean')\n",
    "        self.log(metric, loss, prog_bar=prog_bar)\n",
    "        return loss\n",
    "\n",
    "    def test_step(self, batch, batch_idx, prog_bar=False):\n",
    "        x, y = batch\n",
    "        predictions = self.forward(x)\n",
    "        targets = y[:, 0].float()\n",
    "        avgs = y[:, 1].float()\n",
    "        rdms = y[:, 2].float()\n",
    "\n",
    "        loss = F.mse_loss(predictions, targets, reduction='mean')\n",
    "        avg_loss = F.mse_loss(avgs, targets, reduction='mean')\n",
    "        rdm_loss = F.mse_loss(rdms, targets, reduction='mean')\n",
    "\n",
    "        self.log(\"test_loss\", loss, prog_bar=prog_bar)\n",
    "        self.log(\"avg_loss\", avg_loss, prog_bar=prog_bar)\n",
    "        self.log(\"rdm_loss\", rdm_loss, prog_bar=prog_bar)\n",
    "\n",
    "    def training_step(self, batch, batch_idx):\n",
    "        return self.step(batch, batch_idx, \"train_loss\")\n",
    "    \n",
    "    def validation_step(self, batch, batch_idx):\n",
    "        return self.step(batch, batch_idx, \"val_loss\", True)\n",
    "        \n",
    "    def configure_optimizers(self):\n",
    "        optimizer = torch.optim.Adam(self.parameters(), lr=1e-3, weight_decay=1e-5)\n",
    "        lr_scheduler = torch.optim.lr_scheduler.ReduceLROnPlateau(optimizer, patience=3, verbose=True)\n",
    "        scheduler = {\n",
    "            'scheduler': lr_scheduler,\n",
    "            'reduce_on_plateau': True,\n",
    "            'monitor': 'val_loss'\n",
    "        }\n",
    "        return [optimizer], [scheduler]"
   ]
  },
  {
   "cell_type": "code",
   "execution_count": null,
   "metadata": {
    "id": "XSZTEW7h9d3p"
   },
   "outputs": [],
   "source": [
    "class ContextualRankerData(pl.LightningDataModule):\n",
    "    def __init__(self, train_data, val_data, test_data, features):\n",
    "        super().__init__()\n",
    "        self.train_data = train_data\n",
    "        self.val_data = val_data\n",
    "        self.test_data = test_data\n",
    "        self.features = features\n",
    "\n",
    "    def prepare_data(self):\n",
    "        self.test_data = self.test_data.assign(rdm = np.random.random(len(self.test_data))).assign(avg = self.train_data[\"time\"].mean())\n",
    "\n",
    "    def setup(self, stage=None):\n",
    "        if stage == \"fit\" or stage is None:\n",
    "        self.train_dataset = td.TensorDataset(\n",
    "            torch.from_numpy(self.train_data[self.features].values), \n",
    "            torch.from_numpy(self.train_data[\"time\"].values)\n",
    "            )\n",
    "\n",
    "        self.val_dataset = td.TensorDataset(\n",
    "            torch.from_numpy(self.val_data[self.features].values), \n",
    "            torch.from_numpy(self.val_data[\"time\"].values)\n",
    "            )\n",
    "\n",
    "        if stage == \"test\" or stage is None:  \n",
    "        self.test_dataset = td.TensorDataset(\n",
    "            torch.from_numpy(self.test_data[self.features].values),\n",
    "            torch.from_numpy(self.test_data[[\"time\", \"avg\", \"rdm\"]].values)\n",
    "        )\n",
    "    def train_dataloader(self):\n",
    "        return td.DataLoader(self.train_dataset, batch_size=2048, shuffle=True, num_workers=0)\n",
    "\n",
    "    def val_dataloader(self):\n",
    "        return td.DataLoader(self.val_dataset, batch_size=2048, num_workers=0)\n",
    "\n",
    "    def test_dataloader(self):\n",
    "        return td.DataLoader(self.test_dataset, batch_size=512, shuffle=False, num_workers=0)"
   ]
  },
  {
   "cell_type": "code",
   "execution_count": null,
   "metadata": {
    "id": "JWZ8cqTZ8Njm"
   },
   "outputs": [],
   "source": [
    "net = ContextualRanker(embedding_dim=100)\n",
    "data_module = ContextualRankerData(train_data, val_data, test_data, features = [\"start\", \"track\"])\n",
    "\n",
    "checkpoint_callback = pl.callbacks.ModelCheckpoint(monitor=\"val_loss\")\n",
    "\n",
    "trainer = pl.Trainer(\n",
    "    max_epochs=300,\n",
    "    accelerator='gpu', \n",
    "    devices=1,\n",
    "    callbacks=[\n",
    "        pl.callbacks.early_stopping.EarlyStopping(monitor=\"val_loss\", patience=5),\n",
    "        pl.callbacks.LearningRateMonitor(logging_interval=\"step\"),\n",
    "        checkpoint_callback\n",
    "    ])"
   ]
  },
  {
   "cell_type": "code",
   "execution_count": null,
   "metadata": {
    "id": "omCmoxVhGfJ2"
   },
   "outputs": [],
   "source": [
    "%load_ext tensorboard\n",
    "%tensorboard --logdir /content/lightning_logs --host localhost"
   ]
  },
  {
   "cell_type": "code",
   "execution_count": null,
   "metadata": {
    "id": "Sqy8qDr98Njm"
   },
   "outputs": [],
   "source": [
    "trainer.fit(\n",
    "    net, \n",
    "    data_module\n",
    ")"
   ]
  },
  {
   "cell_type": "code",
   "execution_count": null,
   "metadata": {
    "id": "_IeB7jzb8Njn"
   },
   "outputs": [],
   "source": [
    "best = ContextualRanker.load_from_checkpoint(checkpoint_callback.best_model_path, embedding_dim=100)"
   ]
  },
  {
   "cell_type": "code",
   "execution_count": null,
   "metadata": {
    "id": "HTUgc8_hQ7N0"
   },
   "outputs": [],
   "source": [
    "trainer.test(best, data_module)"
   ]
  },
  {
   "cell_type": "markdown",
   "metadata": {
    "id": "tRZLUR9_8Njo"
   },
   "source": [
    "## Compute top recommendations"
   ]
  },
  {
   "cell_type": "code",
   "execution_count": null,
   "metadata": {
    "id": "5UrLSjgt8Njo"
   },
   "outputs": [],
   "source": [
    "track_meta = pd.read_json(DATA_DIR + \"tracks.json\", lines=True)"
   ]
  },
  {
   "cell_type": "code",
   "execution_count": null,
   "metadata": {
    "id": "PqwVsVyO8Njp"
   },
   "outputs": [],
   "source": [
    "context_embeddings = dict(best.named_parameters())[\"context.weight\"].data.cpu().numpy()\n",
    "track_embeddings = dict(best.named_parameters())[\"track.weight\"].data.cpu().numpy()"
   ]
  },
  {
   "cell_type": "code",
   "execution_count": null,
   "metadata": {
    "id": "-z1VTPGh8Njp"
   },
   "outputs": [],
   "source": [
    "track_meta.head()"
   ]
  },
  {
   "cell_type": "code",
   "execution_count": null,
   "metadata": {
    "id": "m7_A20no8Njp"
   },
   "outputs": [],
   "source": [
    "k = 100\n",
    "with open(DATA_DIR + \"tracks_with_recs.json\", \"w\") as rf:\n",
    "    for _, track in tqdm.tqdm(track_meta.iterrows()):\n",
    "        embedding = context_embeddings[track[\"track\"]]\n",
    "        neighbours = np.argpartition(-np.dot(track_embeddings, embedding), k)[:k]\n",
    "        \n",
    "        recommendation = dict(track)\n",
    "        recommendation[\"recommendations\"] = neighbours.tolist()\n",
    "        \n",
    "        rf.write(json.dumps(recommendation) + \"\\n\")"
   ]
  },
  {
   "cell_type": "code",
   "execution_count": null,
   "metadata": {
    "id": "QhS_o_ff8Njp"
   },
   "outputs": [],
   "source": [
    "track = 3916\n",
    "embedding = context_embeddings[track]\n",
    "track_meta.loc[track_meta[\"track\"] == track, [\"artist\", \"title\"]]"
   ]
  },
  {
   "cell_type": "code",
   "execution_count": null,
   "metadata": {
    "id": "gGFHEN8g8Njq"
   },
   "outputs": [],
   "source": [
    "k = 10\n",
    "neighbours = np.argpartition(-np.dot(track_embeddings, embedding), k)[:k]\n",
    "track_meta.loc[track_meta[\"track\"].isin(neighbours), [\"artist\", \"title\"]]"
   ]
  },
  {
   "cell_type": "code",
   "execution_count": null,
   "metadata": {
    "id": "ymCblQht8Njq"
   },
   "outputs": [],
   "source": []
  }
 ],
 "metadata": {
  "accelerator": "GPU",
  "colab": {
   "provenance": []
  },
  "gpuClass": "standard",
  "kernelspec": {
   "display_name": "Python 3 (ipykernel)",
   "language": "python",
   "name": "python3"
  },
  "language_info": {
   "codemirror_mode": {
    "name": "ipython",
    "version": 3
   },
   "file_extension": ".py",
   "mimetype": "text/x-python",
   "name": "python",
   "nbconvert_exporter": "python",
   "pygments_lexer": "ipython3",
   "version": "3.9.13"
  }
 },
 "nbformat": 4,
 "nbformat_minor": 1
}
